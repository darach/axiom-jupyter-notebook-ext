{
 "cells": [
  {
   "cell_type": "code",
   "execution_count": 2,
   "id": "98bce9df-caf5-4391-a502-bd634762b6c9",
   "metadata": {},
   "outputs": [
    {
     "ename": "NameError",
     "evalue": "name 'AxiomClient' is not defined",
     "output_type": "error",
     "traceback": [
      "\u001b[0;31m---------------------------------------------------------------------------\u001b[0m",
      "\u001b[0;31mNameError\u001b[0m                                 Traceback (most recent call last)",
      "Cell \u001b[0;32mIn[2], line 1\u001b[0m\n\u001b[0;32m----> 1\u001b[0m \u001b[38;5;28;01mimport\u001b[39;00m\u001b[38;5;250m \u001b[39m\u001b[38;5;21;01maxiom_jupyter_notebook_ext\u001b[39;00m\n\u001b[1;32m      2\u001b[0m axiom_jupyter_notebook_ext\u001b[38;5;241m.\u001b[39mload_ipython_extension(get_ipython())\n",
      "File \u001b[0;32m~/Documents/AXIOM/2025/ai-week/axiom-jupyter-notebook-ext/axiom_jupyter_notebook_ext.py:230\u001b[0m\n\u001b[1;32m    224\u001b[0m     df \u001b[38;5;241m=\u001b[39m pd\u001b[38;5;241m.\u001b[39mDataFrame(\n\u001b[1;32m    225\u001b[0m         \u001b[38;5;28mlist\u001b[39m(\u001b[38;5;28mmap\u001b[39m(\u001b[38;5;28mlist\u001b[39m, \u001b[38;5;28mzip\u001b[39m(\u001b[38;5;241m*\u001b[39mcells))), columns\u001b[38;5;241m=\u001b[39mcolumn_names, \u001b[38;5;66;03m#dtype=column_types\u001b[39;00m\n\u001b[1;32m    226\u001b[0m     )\n\u001b[1;32m    228\u001b[0m     \u001b[38;5;28;01mreturn\u001b[39;00m df\n\u001b[0;32m--> 230\u001b[0m \u001b[38;5;28;01mclass\u001b[39;00m\u001b[38;5;250m \u001b[39m\u001b[38;5;21;01mAxiomExtension\u001b[39;00m:\n\u001b[1;32m    231\u001b[0m \u001b[38;5;250m    \u001b[39m\u001b[38;5;124;03m\"\"\"Jupyter extension for axiom_py SDK with pluggable authentication\"\"\"\u001b[39;00m\n\u001b[1;32m    233\u001b[0m     \u001b[38;5;28;01mdef\u001b[39;00m\u001b[38;5;250m \u001b[39m\u001b[38;5;21m__init__\u001b[39m(\u001b[38;5;28mself\u001b[39m):\n",
      "File \u001b[0;32m~/Documents/AXIOM/2025/ai-week/axiom-jupyter-notebook-ext/axiom_jupyter_notebook_ext.py:261\u001b[0m, in \u001b[0;36mAxiomExtension\u001b[0;34m()\u001b[0m\n\u001b[1;32m    258\u001b[0m     \u001b[38;5;66;03m# Reset client to force re-authentication\u001b[39;00m\n\u001b[1;32m    259\u001b[0m     \u001b[38;5;28mself\u001b[39m\u001b[38;5;241m.\u001b[39mclient \u001b[38;5;241m=\u001b[39m \u001b[38;5;28;01mNone\u001b[39;00m\n\u001b[0;32m--> 261\u001b[0m \u001b[38;5;28;01mdef\u001b[39;00m\u001b[38;5;250m \u001b[39m\u001b[38;5;21mget_client\u001b[39m(\u001b[38;5;28mself\u001b[39m) \u001b[38;5;241m-\u001b[39m\u001b[38;5;241m>\u001b[39m \u001b[43mAxiomClient\u001b[49m:\n\u001b[1;32m    262\u001b[0m \u001b[38;5;250m    \u001b[39m\u001b[38;5;124;03m\"\"\"Get or create an authenticated AxiomClient\"\"\"\u001b[39;00m\n\u001b[1;32m    263\u001b[0m     \u001b[38;5;28;01mif\u001b[39;00m \u001b[38;5;129;01mnot\u001b[39;00m HAS_AXIOM:\n",
      "\u001b[0;31mNameError\u001b[0m: name 'AxiomClient' is not defined"
     ]
    }
   ],
   "source": [
    "import axiom_jupyter_notebook_ext\n",
    "axiom_jupyter_notebook_ext.load_ipython_extension(get_ipython())"
   ]
  },
  {
   "cell_type": "code",
   "execution_count": null,
   "id": "7ba8e5eb-28c5-4a08-ab2b-44c6fd369bb8",
   "metadata": {},
   "outputs": [],
   "source": []
  },
  {
   "cell_type": "code",
   "execution_count": null,
   "id": "cb155f4e-7c9e-45d3-a246-36cff05e243b",
   "metadata": {},
   "outputs": [],
   "source": []
  }
 ],
 "metadata": {
  "kernelspec": {
   "display_name": "Python 3 (ipykernel)",
   "language": "python",
   "name": "python3"
  },
  "language_info": {
   "codemirror_mode": {
    "name": "ipython",
    "version": 3
   },
   "file_extension": ".py",
   "mimetype": "text/x-python",
   "name": "python",
   "nbconvert_exporter": "python",
   "pygments_lexer": "ipython3",
   "version": "3.10.7"
  }
 },
 "nbformat": 4,
 "nbformat_minor": 5
}
